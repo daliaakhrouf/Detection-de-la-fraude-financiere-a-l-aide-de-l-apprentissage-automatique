{
 "cells": [
  {
   "cell_type": "code",
   "execution_count": 184,
   "metadata": {},
   "outputs": [],
   "source": [
    "import pandas as pd\n",
    "import seaborn as sns \n",
    "import matplotlib.pyplot as plt\n",
    "from sklearn.model_selection import train_test_split, cross_val_score\n",
    "from sklearn.linear_model import LogisticRegression\n",
    "from sklearn.ensemble import RandomForestClassifier, GradientBoostingClassifier\n",
    "from sklearn.naive_bayes import BernoulliNB\n",
    "from sklearn import metrics\n",
    "from sklearn.discriminant_analysis import LinearDiscriminantAnalysis as LDA\n",
    "import numpy as np\n",
    "from sklearn.tree import DecisionTreeClassifier\n",
    "%matplotlib inline"
   ]
  },
  {
   "cell_type": "code",
   "execution_count": 231,
   "metadata": {},
   "outputs": [],
   "source": [
    "df=pd.read_csv(\"VisaPremier.txt\",delimiter='\\t')"
   ]
  },
  {
   "cell_type": "code",
   "execution_count": 232,
   "metadata": {},
   "outputs": [
    {
     "data": {
      "text/html": [
       "<div>\n",
       "<style scoped>\n",
       "    .dataframe tbody tr th:only-of-type {\n",
       "        vertical-align: middle;\n",
       "    }\n",
       "\n",
       "    .dataframe tbody tr th {\n",
       "        vertical-align: top;\n",
       "    }\n",
       "\n",
       "    .dataframe thead th {\n",
       "        text-align: right;\n",
       "    }\n",
       "</style>\n",
       "<table border=\"1\" class=\"dataframe\">\n",
       "  <thead>\n",
       "    <tr style=\"text-align: right;\">\n",
       "      <th></th>\n",
       "      <th>matricul</th>\n",
       "      <th>departem</th>\n",
       "      <th>ptvente</th>\n",
       "      <th>sexe</th>\n",
       "      <th>age</th>\n",
       "      <th>sitfamil</th>\n",
       "      <th>anciente</th>\n",
       "      <th>csp</th>\n",
       "      <th>codeqlt</th>\n",
       "      <th>nbimpaye</th>\n",
       "      <th>...</th>\n",
       "      <th>mtbon</th>\n",
       "      <th>nbpaiecb</th>\n",
       "      <th>nbcb</th>\n",
       "      <th>nbcbptar</th>\n",
       "      <th>avtscpte</th>\n",
       "      <th>aveparfi</th>\n",
       "      <th>cartevp</th>\n",
       "      <th>sexer</th>\n",
       "      <th>cartevpr</th>\n",
       "      <th>nbjdebit</th>\n",
       "    </tr>\n",
       "  </thead>\n",
       "  <tbody>\n",
       "    <tr>\n",
       "      <th>0</th>\n",
       "      <td>148009</td>\n",
       "      <td>31</td>\n",
       "      <td>1</td>\n",
       "      <td>Shom</td>\n",
       "      <td>51</td>\n",
       "      <td>Fmar</td>\n",
       "      <td>238</td>\n",
       "      <td>Pcad</td>\n",
       "      <td>A</td>\n",
       "      <td>0</td>\n",
       "      <td>...</td>\n",
       "      <td>0</td>\n",
       "      <td>14</td>\n",
       "      <td>2</td>\n",
       "      <td>0</td>\n",
       "      <td>1303700</td>\n",
       "      <td>556967</td>\n",
       "      <td>Coui</td>\n",
       "      <td>0</td>\n",
       "      <td>1</td>\n",
       "      <td>1</td>\n",
       "    </tr>\n",
       "    <tr>\n",
       "      <th>1</th>\n",
       "      <td>442153</td>\n",
       "      <td>82</td>\n",
       "      <td>6</td>\n",
       "      <td>Shom</td>\n",
       "      <td>52</td>\n",
       "      <td>Fmar</td>\n",
       "      <td>270</td>\n",
       "      <td>Pcad</td>\n",
       "      <td>A</td>\n",
       "      <td>0</td>\n",
       "      <td>...</td>\n",
       "      <td>19500000</td>\n",
       "      <td>5</td>\n",
       "      <td>2</td>\n",
       "      <td>0</td>\n",
       "      <td>19856243</td>\n",
       "      <td>133896</td>\n",
       "      <td>Coui</td>\n",
       "      <td>0</td>\n",
       "      <td>1</td>\n",
       "      <td>0</td>\n",
       "    </tr>\n",
       "    <tr>\n",
       "      <th>2</th>\n",
       "      <td>552427</td>\n",
       "      <td>97</td>\n",
       "      <td>1</td>\n",
       "      <td>Shom</td>\n",
       "      <td>58</td>\n",
       "      <td>Fmar</td>\n",
       "      <td>139</td>\n",
       "      <td>Pcad</td>\n",
       "      <td>C</td>\n",
       "      <td>0</td>\n",
       "      <td>...</td>\n",
       "      <td>0</td>\n",
       "      <td>0</td>\n",
       "      <td>1</td>\n",
       "      <td>0</td>\n",
       "      <td>122745</td>\n",
       "      <td>0</td>\n",
       "      <td>Coui</td>\n",
       "      <td>0</td>\n",
       "      <td>1</td>\n",
       "      <td>0</td>\n",
       "    </tr>\n",
       "    <tr>\n",
       "      <th>3</th>\n",
       "      <td>556005</td>\n",
       "      <td>40</td>\n",
       "      <td>1</td>\n",
       "      <td>Shom</td>\n",
       "      <td>27</td>\n",
       "      <td>Fcel</td>\n",
       "      <td>99</td>\n",
       "      <td>Psan</td>\n",
       "      <td>B</td>\n",
       "      <td>0</td>\n",
       "      <td>...</td>\n",
       "      <td>0</td>\n",
       "      <td>14</td>\n",
       "      <td>2</td>\n",
       "      <td>0</td>\n",
       "      <td>83224</td>\n",
       "      <td>0</td>\n",
       "      <td>Coui</td>\n",
       "      <td>0</td>\n",
       "      <td>1</td>\n",
       "      <td>0</td>\n",
       "    </tr>\n",
       "    <tr>\n",
       "      <th>4</th>\n",
       "      <td>556686</td>\n",
       "      <td>65</td>\n",
       "      <td>1</td>\n",
       "      <td>Shom</td>\n",
       "      <td>49</td>\n",
       "      <td>Fsep</td>\n",
       "      <td>89</td>\n",
       "      <td>Pemp</td>\n",
       "      <td>A</td>\n",
       "      <td>0</td>\n",
       "      <td>...</td>\n",
       "      <td>0</td>\n",
       "      <td>11</td>\n",
       "      <td>3</td>\n",
       "      <td>1</td>\n",
       "      <td>494773</td>\n",
       "      <td>21423</td>\n",
       "      <td>Coui</td>\n",
       "      <td>0</td>\n",
       "      <td>1</td>\n",
       "      <td>15</td>\n",
       "    </tr>\n",
       "  </tbody>\n",
       "</table>\n",
       "<p>5 rows × 48 columns</p>\n",
       "</div>"
      ],
      "text/plain": [
       "   matricul departem  ptvente  sexe  age sitfamil  anciente   csp codeqlt  \\\n",
       "0    148009       31        1  Shom   51     Fmar       238  Pcad       A   \n",
       "1    442153       82        6  Shom   52     Fmar       270  Pcad       A   \n",
       "2    552427       97        1  Shom   58     Fmar       139  Pcad       C   \n",
       "3    556005       40        1  Shom   27     Fcel        99  Psan       B   \n",
       "4    556686       65        1  Shom   49     Fsep        89  Pemp       A   \n",
       "\n",
       "   nbimpaye    ...        mtbon  nbpaiecb  nbcb  nbcbptar  avtscpte  aveparfi  \\\n",
       "0         0    ...            0        14     2         0   1303700    556967   \n",
       "1         0    ...     19500000         5     2         0  19856243    133896   \n",
       "2         0    ...            0         0     1         0    122745         0   \n",
       "3         0    ...            0        14     2         0     83224         0   \n",
       "4         0    ...            0        11     3         1    494773     21423   \n",
       "\n",
       "   cartevp  sexer  cartevpr  nbjdebit  \n",
       "0     Coui      0         1         1  \n",
       "1     Coui      0         1         0  \n",
       "2     Coui      0         1         0  \n",
       "3     Coui      0         1         0  \n",
       "4     Coui      0         1        15  \n",
       "\n",
       "[5 rows x 48 columns]"
      ]
     },
     "execution_count": 232,
     "metadata": {},
     "output_type": "execute_result"
    }
   ],
   "source": [
    "df.head()"
   ]
  },
  {
   "cell_type": "code",
   "execution_count": 233,
   "metadata": {},
   "outputs": [
    {
     "data": {
      "text/plain": [
       "0    714\n",
       "1    359\n",
       "Name: cartevpr, dtype: int64"
      ]
     },
     "execution_count": 233,
     "metadata": {},
     "output_type": "execute_result"
    }
   ],
   "source": [
    "pd.Series(df['cartevpr']).value_counts()"
   ]
  },
  {
   "cell_type": "code",
   "execution_count": 234,
   "metadata": {},
   "outputs": [
    {
     "data": {
      "text/html": [
       "<div>\n",
       "<style scoped>\n",
       "    .dataframe tbody tr th:only-of-type {\n",
       "        vertical-align: middle;\n",
       "    }\n",
       "\n",
       "    .dataframe tbody tr th {\n",
       "        vertical-align: top;\n",
       "    }\n",
       "\n",
       "    .dataframe thead th {\n",
       "        text-align: right;\n",
       "    }\n",
       "</style>\n",
       "<table border=\"1\" class=\"dataframe\">\n",
       "  <thead>\n",
       "    <tr style=\"text-align: right;\">\n",
       "      <th></th>\n",
       "      <th>matricul</th>\n",
       "      <th>ptvente</th>\n",
       "      <th>age</th>\n",
       "      <th>anciente</th>\n",
       "      <th>nbimpaye</th>\n",
       "      <th>mtrejet</th>\n",
       "      <th>nbopguic</th>\n",
       "      <th>moycred3</th>\n",
       "      <th>aveparmo</th>\n",
       "      <th>endette</th>\n",
       "      <th>...</th>\n",
       "      <th>mteparte</th>\n",
       "      <th>nbbon</th>\n",
       "      <th>mtbon</th>\n",
       "      <th>nbcb</th>\n",
       "      <th>nbcbptar</th>\n",
       "      <th>avtscpte</th>\n",
       "      <th>aveparfi</th>\n",
       "      <th>sexer</th>\n",
       "      <th>cartevpr</th>\n",
       "      <th>nbjdebit</th>\n",
       "    </tr>\n",
       "  </thead>\n",
       "  <tbody>\n",
       "    <tr>\n",
       "      <th>count</th>\n",
       "      <td>1.073000e+03</td>\n",
       "      <td>1073.00000</td>\n",
       "      <td>1073.000000</td>\n",
       "      <td>1073.000000</td>\n",
       "      <td>1073.0</td>\n",
       "      <td>1073.000000</td>\n",
       "      <td>1073.000000</td>\n",
       "      <td>1073.000000</td>\n",
       "      <td>1073.000000</td>\n",
       "      <td>1073.000000</td>\n",
       "      <td>...</td>\n",
       "      <td>1073.000000</td>\n",
       "      <td>1073.000000</td>\n",
       "      <td>1.073000e+03</td>\n",
       "      <td>1073.000000</td>\n",
       "      <td>1073.000000</td>\n",
       "      <td>1.073000e+03</td>\n",
       "      <td>1.073000e+03</td>\n",
       "      <td>1073.000000</td>\n",
       "      <td>1073.000000</td>\n",
       "      <td>1073.000000</td>\n",
       "    </tr>\n",
       "    <tr>\n",
       "      <th>mean</th>\n",
       "      <td>2.489307e+06</td>\n",
       "      <td>1.66356</td>\n",
       "      <td>42.532153</td>\n",
       "      <td>157.117428</td>\n",
       "      <td>0.0</td>\n",
       "      <td>-0.072693</td>\n",
       "      <td>1.505126</td>\n",
       "      <td>47.626281</td>\n",
       "      <td>57249.062442</td>\n",
       "      <td>5.456664</td>\n",
       "      <td>...</td>\n",
       "      <td>19.710158</td>\n",
       "      <td>0.000932</td>\n",
       "      <td>1.817335e+04</td>\n",
       "      <td>1.069897</td>\n",
       "      <td>0.136067</td>\n",
       "      <td>1.468193e+05</td>\n",
       "      <td>5.072736e+04</td>\n",
       "      <td>0.377446</td>\n",
       "      <td>0.334576</td>\n",
       "      <td>12.084809</td>\n",
       "    </tr>\n",
       "    <tr>\n",
       "      <th>std</th>\n",
       "      <td>1.925341e+06</td>\n",
       "      <td>1.08567</td>\n",
       "      <td>11.905142</td>\n",
       "      <td>156.065121</td>\n",
       "      <td>0.0</td>\n",
       "      <td>1.578875</td>\n",
       "      <td>2.797290</td>\n",
       "      <td>602.687390</td>\n",
       "      <td>116286.219326</td>\n",
       "      <td>12.329669</td>\n",
       "      <td>...</td>\n",
       "      <td>645.639327</td>\n",
       "      <td>0.030528</td>\n",
       "      <td>5.952984e+05</td>\n",
       "      <td>0.868047</td>\n",
       "      <td>0.379186</td>\n",
       "      <td>7.377687e+05</td>\n",
       "      <td>3.399783e+05</td>\n",
       "      <td>0.484974</td>\n",
       "      <td>0.472062</td>\n",
       "      <td>23.335589</td>\n",
       "    </tr>\n",
       "    <tr>\n",
       "      <th>min</th>\n",
       "      <td>1.133330e+05</td>\n",
       "      <td>1.00000</td>\n",
       "      <td>18.000000</td>\n",
       "      <td>1.000000</td>\n",
       "      <td>0.0</td>\n",
       "      <td>-51.000000</td>\n",
       "      <td>0.000000</td>\n",
       "      <td>0.000000</td>\n",
       "      <td>0.000000</td>\n",
       "      <td>0.000000</td>\n",
       "      <td>...</td>\n",
       "      <td>0.000000</td>\n",
       "      <td>0.000000</td>\n",
       "      <td>0.000000e+00</td>\n",
       "      <td>0.000000</td>\n",
       "      <td>0.000000</td>\n",
       "      <td>0.000000e+00</td>\n",
       "      <td>0.000000e+00</td>\n",
       "      <td>0.000000</td>\n",
       "      <td>0.000000</td>\n",
       "      <td>0.000000</td>\n",
       "    </tr>\n",
       "    <tr>\n",
       "      <th>25%</th>\n",
       "      <td>8.604360e+05</td>\n",
       "      <td>1.00000</td>\n",
       "      <td>33.000000</td>\n",
       "      <td>45.000000</td>\n",
       "      <td>0.0</td>\n",
       "      <td>0.000000</td>\n",
       "      <td>0.000000</td>\n",
       "      <td>3.000000</td>\n",
       "      <td>0.000000</td>\n",
       "      <td>0.000000</td>\n",
       "      <td>...</td>\n",
       "      <td>0.000000</td>\n",
       "      <td>0.000000</td>\n",
       "      <td>0.000000e+00</td>\n",
       "      <td>0.000000</td>\n",
       "      <td>0.000000</td>\n",
       "      <td>3.184000e+03</td>\n",
       "      <td>0.000000e+00</td>\n",
       "      <td>0.000000</td>\n",
       "      <td>0.000000</td>\n",
       "      <td>0.000000</td>\n",
       "    </tr>\n",
       "    <tr>\n",
       "      <th>50%</th>\n",
       "      <td>1.948586e+06</td>\n",
       "      <td>1.00000</td>\n",
       "      <td>43.000000</td>\n",
       "      <td>136.000000</td>\n",
       "      <td>0.0</td>\n",
       "      <td>0.000000</td>\n",
       "      <td>1.000000</td>\n",
       "      <td>12.000000</td>\n",
       "      <td>6017.000000</td>\n",
       "      <td>0.000000</td>\n",
       "      <td>...</td>\n",
       "      <td>0.000000</td>\n",
       "      <td>0.000000</td>\n",
       "      <td>0.000000e+00</td>\n",
       "      <td>1.000000</td>\n",
       "      <td>0.000000</td>\n",
       "      <td>2.399300e+04</td>\n",
       "      <td>0.000000e+00</td>\n",
       "      <td>0.000000</td>\n",
       "      <td>0.000000</td>\n",
       "      <td>0.000000</td>\n",
       "    </tr>\n",
       "    <tr>\n",
       "      <th>75%</th>\n",
       "      <td>3.901594e+06</td>\n",
       "      <td>2.00000</td>\n",
       "      <td>52.000000</td>\n",
       "      <td>216.000000</td>\n",
       "      <td>0.0</td>\n",
       "      <td>0.000000</td>\n",
       "      <td>2.000000</td>\n",
       "      <td>27.000000</td>\n",
       "      <td>57818.000000</td>\n",
       "      <td>6.000000</td>\n",
       "      <td>...</td>\n",
       "      <td>0.000000</td>\n",
       "      <td>0.000000</td>\n",
       "      <td>0.000000e+00</td>\n",
       "      <td>2.000000</td>\n",
       "      <td>0.000000</td>\n",
       "      <td>1.148070e+05</td>\n",
       "      <td>5.000000e+02</td>\n",
       "      <td>1.000000</td>\n",
       "      <td>1.000000</td>\n",
       "      <td>10.000000</td>\n",
       "    </tr>\n",
       "    <tr>\n",
       "      <th>max</th>\n",
       "      <td>7.589439e+06</td>\n",
       "      <td>7.00000</td>\n",
       "      <td>65.000000</td>\n",
       "      <td>870.000000</td>\n",
       "      <td>0.0</td>\n",
       "      <td>0.000000</td>\n",
       "      <td>28.000000</td>\n",
       "      <td>19579.000000</td>\n",
       "      <td>970000.000000</td>\n",
       "      <td>99.000000</td>\n",
       "      <td>...</td>\n",
       "      <td>21149.000000</td>\n",
       "      <td>1.000000</td>\n",
       "      <td>1.950000e+07</td>\n",
       "      <td>5.000000</td>\n",
       "      <td>4.000000</td>\n",
       "      <td>1.985624e+07</td>\n",
       "      <td>7.066619e+06</td>\n",
       "      <td>1.000000</td>\n",
       "      <td>1.000000</td>\n",
       "      <td>134.000000</td>\n",
       "    </tr>\n",
       "  </tbody>\n",
       "</table>\n",
       "<p>8 rows × 40 columns</p>\n",
       "</div>"
      ],
      "text/plain": [
       "           matricul     ptvente          age     anciente  nbimpaye  \\\n",
       "count  1.073000e+03  1073.00000  1073.000000  1073.000000    1073.0   \n",
       "mean   2.489307e+06     1.66356    42.532153   157.117428       0.0   \n",
       "std    1.925341e+06     1.08567    11.905142   156.065121       0.0   \n",
       "min    1.133330e+05     1.00000    18.000000     1.000000       0.0   \n",
       "25%    8.604360e+05     1.00000    33.000000    45.000000       0.0   \n",
       "50%    1.948586e+06     1.00000    43.000000   136.000000       0.0   \n",
       "75%    3.901594e+06     2.00000    52.000000   216.000000       0.0   \n",
       "max    7.589439e+06     7.00000    65.000000   870.000000       0.0   \n",
       "\n",
       "           mtrejet     nbopguic      moycred3       aveparmo      endette  \\\n",
       "count  1073.000000  1073.000000   1073.000000    1073.000000  1073.000000   \n",
       "mean     -0.072693     1.505126     47.626281   57249.062442     5.456664   \n",
       "std       1.578875     2.797290    602.687390  116286.219326    12.329669   \n",
       "min     -51.000000     0.000000      0.000000       0.000000     0.000000   \n",
       "25%       0.000000     0.000000      3.000000       0.000000     0.000000   \n",
       "50%       0.000000     1.000000     12.000000    6017.000000     0.000000   \n",
       "75%       0.000000     2.000000     27.000000   57818.000000     6.000000   \n",
       "max       0.000000    28.000000  19579.000000  970000.000000    99.000000   \n",
       "\n",
       "          ...           mteparte        nbbon         mtbon         nbcb  \\\n",
       "count     ...        1073.000000  1073.000000  1.073000e+03  1073.000000   \n",
       "mean      ...          19.710158     0.000932  1.817335e+04     1.069897   \n",
       "std       ...         645.639327     0.030528  5.952984e+05     0.868047   \n",
       "min       ...           0.000000     0.000000  0.000000e+00     0.000000   \n",
       "25%       ...           0.000000     0.000000  0.000000e+00     0.000000   \n",
       "50%       ...           0.000000     0.000000  0.000000e+00     1.000000   \n",
       "75%       ...           0.000000     0.000000  0.000000e+00     2.000000   \n",
       "max       ...       21149.000000     1.000000  1.950000e+07     5.000000   \n",
       "\n",
       "          nbcbptar      avtscpte      aveparfi        sexer     cartevpr  \\\n",
       "count  1073.000000  1.073000e+03  1.073000e+03  1073.000000  1073.000000   \n",
       "mean      0.136067  1.468193e+05  5.072736e+04     0.377446     0.334576   \n",
       "std       0.379186  7.377687e+05  3.399783e+05     0.484974     0.472062   \n",
       "min       0.000000  0.000000e+00  0.000000e+00     0.000000     0.000000   \n",
       "25%       0.000000  3.184000e+03  0.000000e+00     0.000000     0.000000   \n",
       "50%       0.000000  2.399300e+04  0.000000e+00     0.000000     0.000000   \n",
       "75%       0.000000  1.148070e+05  5.000000e+02     1.000000     1.000000   \n",
       "max       4.000000  1.985624e+07  7.066619e+06     1.000000     1.000000   \n",
       "\n",
       "          nbjdebit  \n",
       "count  1073.000000  \n",
       "mean     12.084809  \n",
       "std      23.335589  \n",
       "min       0.000000  \n",
       "25%       0.000000  \n",
       "50%       0.000000  \n",
       "75%      10.000000  \n",
       "max     134.000000  \n",
       "\n",
       "[8 rows x 40 columns]"
      ]
     },
     "execution_count": 234,
     "metadata": {},
     "output_type": "execute_result"
    }
   ],
   "source": [
    "df.describe()\n"
   ]
  },
  {
   "cell_type": "code",
   "execution_count": 235,
   "metadata": {},
   "outputs": [
    {
     "name": "stdout",
     "output_type": "stream",
     "text": [
      "<class 'pandas.core.frame.DataFrame'>\n",
      "RangeIndex: 1073 entries, 0 to 1072\n",
      "Data columns (total 48 columns):\n",
      "matricul    1073 non-null int64\n",
      "departem    1073 non-null object\n",
      "ptvente     1073 non-null int64\n",
      "sexe        1073 non-null object\n",
      "age         1073 non-null int64\n",
      "sitfamil    1073 non-null object\n",
      "anciente    1073 non-null int64\n",
      "csp         1073 non-null object\n",
      "codeqlt     1073 non-null object\n",
      "nbimpaye    1073 non-null int64\n",
      "mtrejet     1073 non-null int64\n",
      "nbopguic    1073 non-null int64\n",
      "moycred3    1073 non-null int64\n",
      "aveparmo    1073 non-null int64\n",
      "endette     1073 non-null int64\n",
      "engagemt    1073 non-null int64\n",
      "engagemc    1073 non-null int64\n",
      "engagemm    1073 non-null int64\n",
      "nbcptvue    1073 non-null int64\n",
      "moysold3    1073 non-null int64\n",
      "moycredi    1073 non-null int64\n",
      "agemvt      1073 non-null object\n",
      "nbop        1073 non-null int64\n",
      "mtfactur    1073 non-null int64\n",
      "engageml    1073 non-null int64\n",
      "nbvie       1073 non-null int64\n",
      "mtvie       1073 non-null int64\n",
      "nbeparmo    1073 non-null int64\n",
      "mteparmo    1073 non-null int64\n",
      "nbeparlo    1073 non-null int64\n",
      "mteparlo    1073 non-null int64\n",
      "nblivret    1073 non-null int64\n",
      "mtlivret    1073 non-null int64\n",
      "nbeparlt    1073 non-null int64\n",
      "mteparlt    1073 non-null int64\n",
      "nbeparte    1073 non-null int64\n",
      "mteparte    1073 non-null int64\n",
      "nbbon       1073 non-null int64\n",
      "mtbon       1073 non-null int64\n",
      "nbpaiecb    1073 non-null object\n",
      "nbcb        1073 non-null int64\n",
      "nbcbptar    1073 non-null int64\n",
      "avtscpte    1073 non-null int64\n",
      "aveparfi    1073 non-null int64\n",
      "cartevp     1073 non-null object\n",
      "sexer       1073 non-null int64\n",
      "cartevpr    1073 non-null int64\n",
      "nbjdebit    1073 non-null int64\n",
      "dtypes: int64(40), object(8)\n",
      "memory usage: 402.5+ KB\n"
     ]
    }
   ],
   "source": [
    "df.info()"
   ]
  },
  {
   "cell_type": "code",
   "execution_count": 236,
   "metadata": {},
   "outputs": [
    {
     "data": {
      "text/plain": [
       "<matplotlib.axes._subplots.AxesSubplot at 0x1f23d952da0>"
      ]
     },
     "execution_count": 236,
     "metadata": {},
     "output_type": "execute_result"
    },
    {
     "data": {
      "image/png": "[encoded data removed]",
      "text/plain": [
       "<Figure size 432x288 with 1 Axes>"
      ]
     },
     "metadata": {
      "needs_background": "light"
     },
     "output_type": "display_data"
    }
   ],
   "source": [
    "sns.countplot(x=df['cartevpr'],data=df)"
   ]
  },
  {
   "cell_type": "code",
   "execution_count": 237,
   "metadata": {},
   "outputs": [
    {
     "data": {
      "text/plain": [
       "<matplotlib.axes._subplots.AxesSubplot at 0x1f23d9e44a8>"
      ]
     },
     "execution_count": 237,
     "metadata": {},
     "output_type": "execute_result"
    },
    {
     "data": {
      "image/png": "[encoded data removed]",
      "text/plain": [
       "<Figure size 432x288 with 1 Axes>"
      ]
     },
     "metadata": {
      "needs_background": "light"
     },
     "output_type": "display_data"
    }
   ],
   "source": [
    "sns.heatmap(df.isnull(),yticklabels=False,cbar=False,cmap='viridis')"
   ]
  },
  {
   "cell_type": "code",
   "execution_count": 238,
   "metadata": {},
   "outputs": [
    {
     "data": {
      "text/plain": [
       "<matplotlib.axes._subplots.AxesSubplot at 0x1f23d928f60>"
      ]
     },
     "execution_count": 238,
     "metadata": {},
     "output_type": "execute_result"
    },
    {
     "data": {
      "image/png": "[encoded data removed]",
      "text/plain": [
       "<Figure size 432x288 with 1 Axes>"
      ]
     },
     "metadata": {
      "needs_background": "light"
     },
     "output_type": "display_data"
    }
   ],
   "source": [
    "sns.countplot(x=df['cartevpr'],hue='sexer',data=df,palette='RdBu_r')"
   ]
  },
  {
   "cell_type": "code",
   "execution_count": 223,
   "metadata": {},
   "outputs": [
    {
     "data": {
      "text/plain": [
       "<matplotlib.axes._subplots.AxesSubplot at 0x1f23cdf5a58>"
      ]
     },
     "execution_count": 223,
     "metadata": {},
     "output_type": "execute_result"
    },
    {
     "data": {
      "image/png": "[encoded data removed]",
      "text/plain": [
       "<Figure size 432x288 with 1 Axes>"
      ]
     },
     "metadata": {
      "needs_background": "light"
     },
     "output_type": "display_data"
    }
   ],
   "source": [
    "sns.distplot(df['age'],kde=False,bins=30)"
   ]
  },
  {
   "cell_type": "code",
   "execution_count": 239,
   "metadata": {},
   "outputs": [],
   "source": [
    "df.drop(['sexe','csp','cartevp','sitfamil','codeqlt'],axis=1,inplace=True)"
   ]
  },
  {
   "cell_type": "code",
   "execution_count": 240,
   "metadata": {},
   "outputs": [],
   "source": [
    "df.drop(['matricul'],axis=1,inplace=True)"
   ]
  },
  {
   "cell_type": "code",
   "execution_count": 241,
   "metadata": {},
   "outputs": [],
   "source": [
    "df.drop(['nbpaiecb','agemvt'],axis=1,inplace=True)"
   ]
  },
  {
   "cell_type": "code",
   "execution_count": 242,
   "metadata": {},
   "outputs": [],
   "source": [
    "df.drop(['departem'],axis=1,inplace=True)"
   ]
  },
  {
   "cell_type": "code",
   "execution_count": 243,
   "metadata": {},
   "outputs": [],
   "source": [
    "df.drop(['age','sexer'],axis=1,inplace=True)"
   ]
  },
  {
   "cell_type": "code",
   "execution_count": 244,
   "metadata": {},
   "outputs": [
    {
     "data": {
      "text/html": [
       "<div>\n",
       "<style scoped>\n",
       "    .dataframe tbody tr th:only-of-type {\n",
       "        vertical-align: middle;\n",
       "    }\n",
       "\n",
       "    .dataframe tbody tr th {\n",
       "        vertical-align: top;\n",
       "    }\n",
       "\n",
       "    .dataframe thead th {\n",
       "        text-align: right;\n",
       "    }\n",
       "</style>\n",
       "<table border=\"1\" class=\"dataframe\">\n",
       "  <thead>\n",
       "    <tr style=\"text-align: right;\">\n",
       "      <th></th>\n",
       "      <th>ptvente</th>\n",
       "      <th>anciente</th>\n",
       "      <th>nbimpaye</th>\n",
       "      <th>mtrejet</th>\n",
       "      <th>nbopguic</th>\n",
       "      <th>moycred3</th>\n",
       "      <th>aveparmo</th>\n",
       "      <th>endette</th>\n",
       "      <th>engagemt</th>\n",
       "      <th>engagemc</th>\n",
       "      <th>...</th>\n",
       "      <th>nbeparte</th>\n",
       "      <th>mteparte</th>\n",
       "      <th>nbbon</th>\n",
       "      <th>mtbon</th>\n",
       "      <th>nbcb</th>\n",
       "      <th>nbcbptar</th>\n",
       "      <th>avtscpte</th>\n",
       "      <th>aveparfi</th>\n",
       "      <th>cartevpr</th>\n",
       "      <th>nbjdebit</th>\n",
       "    </tr>\n",
       "  </thead>\n",
       "  <tbody>\n",
       "    <tr>\n",
       "      <th>0</th>\n",
       "      <td>1</td>\n",
       "      <td>238</td>\n",
       "      <td>0</td>\n",
       "      <td>0</td>\n",
       "      <td>0</td>\n",
       "      <td>115</td>\n",
       "      <td>701939</td>\n",
       "      <td>4</td>\n",
       "      <td>119216</td>\n",
       "      <td>0</td>\n",
       "      <td>...</td>\n",
       "      <td>0</td>\n",
       "      <td>0</td>\n",
       "      <td>0</td>\n",
       "      <td>0</td>\n",
       "      <td>2</td>\n",
       "      <td>0</td>\n",
       "      <td>1303700</td>\n",
       "      <td>556967</td>\n",
       "      <td>1</td>\n",
       "      <td>1</td>\n",
       "    </tr>\n",
       "    <tr>\n",
       "      <th>1</th>\n",
       "      <td>6</td>\n",
       "      <td>270</td>\n",
       "      <td>0</td>\n",
       "      <td>0</td>\n",
       "      <td>4</td>\n",
       "      <td>19579</td>\n",
       "      <td>8920</td>\n",
       "      <td>0</td>\n",
       "      <td>0</td>\n",
       "      <td>0</td>\n",
       "      <td>...</td>\n",
       "      <td>0</td>\n",
       "      <td>0</td>\n",
       "      <td>1</td>\n",
       "      <td>19500000</td>\n",
       "      <td>2</td>\n",
       "      <td>0</td>\n",
       "      <td>19856243</td>\n",
       "      <td>133896</td>\n",
       "      <td>1</td>\n",
       "      <td>0</td>\n",
       "    </tr>\n",
       "    <tr>\n",
       "      <th>2</th>\n",
       "      <td>1</td>\n",
       "      <td>139</td>\n",
       "      <td>0</td>\n",
       "      <td>0</td>\n",
       "      <td>0</td>\n",
       "      <td>40</td>\n",
       "      <td>3402</td>\n",
       "      <td>0</td>\n",
       "      <td>0</td>\n",
       "      <td>0</td>\n",
       "      <td>...</td>\n",
       "      <td>0</td>\n",
       "      <td>0</td>\n",
       "      <td>0</td>\n",
       "      <td>0</td>\n",
       "      <td>1</td>\n",
       "      <td>0</td>\n",
       "      <td>122745</td>\n",
       "      <td>0</td>\n",
       "      <td>1</td>\n",
       "      <td>0</td>\n",
       "    </tr>\n",
       "    <tr>\n",
       "      <th>3</th>\n",
       "      <td>1</td>\n",
       "      <td>99</td>\n",
       "      <td>0</td>\n",
       "      <td>0</td>\n",
       "      <td>0</td>\n",
       "      <td>17</td>\n",
       "      <td>76321</td>\n",
       "      <td>0</td>\n",
       "      <td>0</td>\n",
       "      <td>0</td>\n",
       "      <td>...</td>\n",
       "      <td>0</td>\n",
       "      <td>0</td>\n",
       "      <td>0</td>\n",
       "      <td>0</td>\n",
       "      <td>2</td>\n",
       "      <td>0</td>\n",
       "      <td>83224</td>\n",
       "      <td>0</td>\n",
       "      <td>1</td>\n",
       "      <td>0</td>\n",
       "    </tr>\n",
       "    <tr>\n",
       "      <th>4</th>\n",
       "      <td>1</td>\n",
       "      <td>89</td>\n",
       "      <td>0</td>\n",
       "      <td>0</td>\n",
       "      <td>0</td>\n",
       "      <td>374</td>\n",
       "      <td>473350</td>\n",
       "      <td>0</td>\n",
       "      <td>209062</td>\n",
       "      <td>37859</td>\n",
       "      <td>...</td>\n",
       "      <td>0</td>\n",
       "      <td>0</td>\n",
       "      <td>0</td>\n",
       "      <td>0</td>\n",
       "      <td>3</td>\n",
       "      <td>1</td>\n",
       "      <td>494773</td>\n",
       "      <td>21423</td>\n",
       "      <td>1</td>\n",
       "      <td>15</td>\n",
       "    </tr>\n",
       "  </tbody>\n",
       "</table>\n",
       "<p>5 rows × 37 columns</p>\n",
       "</div>"
      ],
      "text/plain": [
       "   ptvente  anciente  nbimpaye  mtrejet  nbopguic  moycred3  aveparmo  \\\n",
       "0        1       238         0        0         0       115    701939   \n",
       "1        6       270         0        0         4     19579      8920   \n",
       "2        1       139         0        0         0        40      3402   \n",
       "3        1        99         0        0         0        17     76321   \n",
       "4        1        89         0        0         0       374    473350   \n",
       "\n",
       "   endette  engagemt  engagemc    ...     nbeparte  mteparte  nbbon     mtbon  \\\n",
       "0        4    119216         0    ...            0         0      0         0   \n",
       "1        0         0         0    ...            0         0      1  19500000   \n",
       "2        0         0         0    ...            0         0      0         0   \n",
       "3        0         0         0    ...            0         0      0         0   \n",
       "4        0    209062     37859    ...            0         0      0         0   \n",
       "\n",
       "   nbcb  nbcbptar  avtscpte  aveparfi  cartevpr  nbjdebit  \n",
       "0     2         0   1303700    556967         1         1  \n",
       "1     2         0  19856243    133896         1         0  \n",
       "2     1         0    122745         0         1         0  \n",
       "3     2         0     83224         0         1         0  \n",
       "4     3         1    494773     21423         1        15  \n",
       "\n",
       "[5 rows x 37 columns]"
      ]
     },
     "execution_count": 244,
     "metadata": {},
     "output_type": "execute_result"
    }
   ],
   "source": [
    "df.head()"
   ]
  },
  {
   "cell_type": "code",
   "execution_count": 245,
   "metadata": {},
   "outputs": [],
   "source": [
    "x=df.drop(['cartevpr'],axis=1)\n",
    "y=df['cartevpr']"
   ]
  },
  {
   "cell_type": "code",
   "execution_count": 246,
   "metadata": {},
   "outputs": [
    {
     "name": "stderr",
     "output_type": "stream",
     "text": [
      "C:\\Users\\dalia\\Anaconda3\\lib\\site-packages\\sklearn\\preprocessing\\data.py:625: DataConversionWarning: Data with input dtype int64 were all converted to float64 by StandardScaler.\n",
      "  return self.partial_fit(X, y)\n",
      "C:\\Users\\dalia\\Anaconda3\\lib\\site-packages\\ipykernel_launcher.py:3: DataConversionWarning: Data with input dtype int64 were all converted to float64 by StandardScaler.\n",
      "  This is separate from the ipykernel package so we can avoid doing imports until\n"
     ]
    }
   ],
   "source": [
    "scaler = StandardScaler()\n",
    "scaler.fit(x)\n",
    "scaled_features = scaler.transform(x)"
   ]
  },
  {
   "cell_type": "code",
   "execution_count": 247,
   "metadata": {},
   "outputs": [],
   "source": [
    "def plot_confusion_matrix(cm, classes, title, cmap):\n",
    "    \"function for plotting confusion matrix\"\n",
    "    plt.clf()\n",
    "    plt.imshow(cm, interpolation='nearest', cmap=cmap)\n",
    "    classnames = classes\n",
    "    plt.title(title)\n",
    "    plt.ylabel('True label')\n",
    "    plt.xlabel('Predicted label')\n",
    "    tick_marks = np.arange(len(classnames))\n",
    "    plt.xticks(tick_marks, classnames, rotation=45)\n",
    "    plt.yticks(tick_marks, classnames)\n",
    "    s = [['TN','FP'], ['FN', 'TP']]\n",
    " \n",
    "    for i in range(2):\n",
    "        for j in range(2):\n",
    "            plt.text(j,i, str(s[i][j])+\" = \"+str(cm[i][j]))\n",
    "    plt.show()\n",
    "\n",
    "\n",
    "def plot_roc_auc(arg1, arg2, arg3):\n",
    "    \"a function to plot roc_auc\"\n",
    "    fig, ax = plt.subplots(figsize=(8, 6))\n",
    "    for i, v in arg1: \n",
    "        y_score = v.predict_proba(arg2)[:, 1]\n",
    "        fpr, tpr, _ = metrics.roc_curve(arg3, y_score) \n",
    "        roc_auc = metrics.auc(fpr, tpr)\n",
    "        plt.plot(fpr, tpr,lw=2, label= i + ' (area = %0.2f)' % roc_auc) \n",
    "    plt.plot([0, 1], [0, 1], color='navy', lw=2, linestyle='--')\n",
    "    plt.xlim([0.0, 1.0])\n",
    "    plt.ylim([0.0, 1.05])\n",
    "    plt.xlabel('False Positive Rate')\n",
    "    plt.ylabel('True Positive Rate')\n",
    "    plt.title('ROC Curve')\n",
    "    plt.legend(loc=\"lower right\")\n",
    "    plt.show()  "
   ]
  },
  {
   "cell_type": "code",
   "execution_count": 248,
   "metadata": {},
   "outputs": [],
   "source": [
    "X_train, X_test, y_train, y_test = train_test_split(\n",
    "    scaled_features, y, test_size=0.30, random_state=101)"
   ]
  },
  {
   "cell_type": "code",
   "execution_count": 249,
   "metadata": {},
   "outputs": [
    {
     "name": "stderr",
     "output_type": "stream",
     "text": [
      "C:\\Users\\dalia\\Anaconda3\\lib\\site-packages\\sklearn\\linear_model\\logistic.py:433: FutureWarning: Default solver will be changed to 'lbfgs' in 0.22. Specify a solver to silence this warning.\n",
      "  FutureWarning)\n",
      "C:\\Users\\dalia\\Anaconda3\\lib\\site-packages\\sklearn\\ensemble\\forest.py:246: FutureWarning: The default value of n_estimators will change from 10 in version 0.20 to 100 in 0.22.\n",
      "  \"10 in version 0.20 to 100 in 0.22.\", FutureWarning)\n"
     ]
    }
   ],
   "source": [
    "# Train LogisticRegression Model\n",
    "LGR_Classifier = LogisticRegression()\n",
    "LGR_Classifier.fit(X_train, y_train);\n",
    "\n",
    "# Train Decision Tree Model\n",
    "RDF_Classifier = RandomForestClassifier(random_state=0)\n",
    "RDF_Classifier.fit(X_train, y_train);\n",
    "\n",
    "# Train Bernoulli Naive Baye Model\n",
    "BNB_Classifier = BernoulliNB()\n",
    "BNB_Classifier.fit(X_train, y_train);"
   ]
  },
  {
   "cell_type": "code",
   "execution_count": 250,
   "metadata": {},
   "outputs": [
    {
     "name": "stdout",
     "output_type": "stream",
     "text": [
      "\n",
      "========================== Model Evaluation Results ========================\n",
      "\n",
      "===== RandomForest Classifier =====\n",
      "\n",
      "Cross Validation Mean Score:  83.8%\n",
      "\n",
      "Model Accuracy:  98.8%\n",
      "\n",
      "Confusion Matrix:\n",
      " [[511   0]\n",
      " [  9 231]]\n",
      "\n",
      "Classification Report:\n",
      "               precision    recall  f1-score   support\n",
      "\n",
      "           0       0.98      1.00      0.99       511\n",
      "           1       1.00      0.96      0.98       240\n",
      "\n",
      "   micro avg       0.99      0.99      0.99       751\n",
      "   macro avg       0.99      0.98      0.99       751\n",
      "weighted avg       0.99      0.99      0.99       751\n",
      "\n",
      "\n"
     ]
    },
    {
     "name": "stderr",
     "output_type": "stream",
     "text": [
      "C:\\Users\\dalia\\Anaconda3\\lib\\site-packages\\sklearn\\linear_model\\logistic.py:433: FutureWarning: Default solver will be changed to 'lbfgs' in 0.22. Specify a solver to silence this warning.\n",
      "  FutureWarning)\n",
      "C:\\Users\\dalia\\Anaconda3\\lib\\site-packages\\sklearn\\linear_model\\logistic.py:433: FutureWarning: Default solver will be changed to 'lbfgs' in 0.22. Specify a solver to silence this warning.\n",
      "  FutureWarning)\n",
      "C:\\Users\\dalia\\Anaconda3\\lib\\site-packages\\sklearn\\linear_model\\logistic.py:433: FutureWarning: Default solver will be changed to 'lbfgs' in 0.22. Specify a solver to silence this warning.\n",
      "  FutureWarning)\n",
      "C:\\Users\\dalia\\Anaconda3\\lib\\site-packages\\sklearn\\linear_model\\logistic.py:433: FutureWarning: Default solver will be changed to 'lbfgs' in 0.22. Specify a solver to silence this warning.\n",
      "  FutureWarning)\n",
      "C:\\Users\\dalia\\Anaconda3\\lib\\site-packages\\sklearn\\linear_model\\logistic.py:433: FutureWarning: Default solver will be changed to 'lbfgs' in 0.22. Specify a solver to silence this warning.\n",
      "  FutureWarning)\n",
      "C:\\Users\\dalia\\Anaconda3\\lib\\site-packages\\sklearn\\linear_model\\logistic.py:433: FutureWarning: Default solver will be changed to 'lbfgs' in 0.22. Specify a solver to silence this warning.\n",
      "  FutureWarning)\n",
      "C:\\Users\\dalia\\Anaconda3\\lib\\site-packages\\sklearn\\linear_model\\logistic.py:433: FutureWarning: Default solver will be changed to 'lbfgs' in 0.22. Specify a solver to silence this warning.\n",
      "  FutureWarning)\n",
      "C:\\Users\\dalia\\Anaconda3\\lib\\site-packages\\sklearn\\linear_model\\logistic.py:433: FutureWarning: Default solver will be changed to 'lbfgs' in 0.22. Specify a solver to silence this warning.\n",
      "  FutureWarning)\n",
      "C:\\Users\\dalia\\Anaconda3\\lib\\site-packages\\sklearn\\linear_model\\logistic.py:433: FutureWarning: Default solver will be changed to 'lbfgs' in 0.22. Specify a solver to silence this warning.\n",
      "  FutureWarning)\n",
      "C:\\Users\\dalia\\Anaconda3\\lib\\site-packages\\sklearn\\linear_model\\logistic.py:433: FutureWarning: Default solver will be changed to 'lbfgs' in 0.22. Specify a solver to silence this warning.\n",
      "  FutureWarning)\n"
     ]
    },
    {
     "name": "stdout",
     "output_type": "stream",
     "text": [
      "===== LogisticRegression =====\n",
      "\n",
      "Cross Validation Mean Score:  83.89999999999999%\n",
      "\n",
      "Model Accuracy:  86.7%\n",
      "\n",
      "Confusion Matrix:\n",
      " [[483  28]\n",
      " [ 72 168]]\n",
      "\n",
      "Classification Report:\n",
      "               precision    recall  f1-score   support\n",
      "\n",
      "           0       0.87      0.95      0.91       511\n",
      "           1       0.86      0.70      0.77       240\n",
      "\n",
      "   micro avg       0.87      0.87      0.87       751\n",
      "   macro avg       0.86      0.82      0.84       751\n",
      "weighted avg       0.87      0.87      0.86       751\n",
      "\n",
      "\n",
      "===== Naive Baiye Classifier =====\n",
      "\n",
      "Cross Validation Mean Score:  76.6%\n",
      "\n",
      "Model Accuracy:  77.2%\n",
      "\n",
      "Confusion Matrix:\n",
      " [[419  92]\n",
      " [ 79 161]]\n",
      "\n",
      "Classification Report:\n",
      "               precision    recall  f1-score   support\n",
      "\n",
      "           0       0.84      0.82      0.83       511\n",
      "           1       0.64      0.67      0.65       240\n",
      "\n",
      "   micro avg       0.77      0.77      0.77       751\n",
      "   macro avg       0.74      0.75      0.74       751\n",
      "weighted avg       0.78      0.77      0.77       751\n",
      "\n",
      "\n"
     ]
    }
   ],
   "source": [
    "# Evaluate models\n",
    "modlist = [('RandomForest Classifier', RDF_Classifier),('LogisticRegression', LGR_Classifier),\n",
    "('Naive Baiye Classifier', BNB_Classifier)] \n",
    "\n",
    "models = [j for j in modlist]\n",
    "\n",
    "print()\n",
    "print('========================== Model Evaluation Results ========================' \"\\n\")  \n",
    "\n",
    "for i, v in models:\n",
    "    scores = cross_val_score(v, X_train, y_train, cv=10)\n",
    "    accuracy = metrics.accuracy_score(y_train, v.predict(X_train))\n",
    "    confusion_matrix = metrics.confusion_matrix(y_train, v.predict(X_train))\n",
    "    classification = metrics.classification_report(y_train, v.predict(X_train))\n",
    "    print('===== {} ====='.format(i))\n",
    "    print()\n",
    "    print (\"Cross Validation Mean Score: \", '{}%'.format(np.round(scores.mean(), 3) * 100))  \n",
    "    print() \n",
    "    print (\"Model Accuracy: \", '{}%'.format(np.round(accuracy, 3) * 100)) \n",
    "    print()\n",
    "    print(\"Confusion Matrix:\" \"\\n\", confusion_matrix)\n",
    "    print()\n",
    "    print(\"Classification Report:\" \"\\n\", classification) \n",
    "    print()"
   ]
  },
  {
   "cell_type": "code",
   "execution_count": 251,
   "metadata": {},
   "outputs": [
    {
     "name": "stdout",
     "output_type": "stream",
     "text": [
      "\n",
      "========================== Model Test Results ========================\n",
      "\n",
      "=== RandomForest Classifier ===\n",
      "Model Accuracy:  81.39999999999999%\n",
      "\n",
      "Confusion Matrix:\n",
      " [[185  18]\n",
      " [ 42  77]]\n",
      "\n"
     ]
    },
    {
     "data": {
      "image/png": "[encoded data removed]",
      "text/plain": [
       "<Figure size 432x288 with 1 Axes>"
      ]
     },
     "metadata": {
      "needs_background": "light"
     },
     "output_type": "display_data"
    },
    {
     "name": "stdout",
     "output_type": "stream",
     "text": [
      "\n",
      "Classification Report:\n",
      "               precision    recall  f1-score   support\n",
      "\n",
      "           0       0.81      0.91      0.86       203\n",
      "           1       0.81      0.65      0.72       119\n",
      "\n",
      "   micro avg       0.81      0.81      0.81       322\n",
      "   macro avg       0.81      0.78      0.79       322\n",
      "weighted avg       0.81      0.81      0.81       322\n",
      "\n",
      "\n",
      "=== LogisticRegression ===\n",
      "Model Accuracy:  83.2%\n",
      "\n",
      "Confusion Matrix:\n",
      " [[191  12]\n",
      " [ 42  77]]\n",
      "\n"
     ]
    },
    {
     "data": {
      "image/png": "[encoded data removed]",
      "text/plain": [
       "<Figure size 432x288 with 1 Axes>"
      ]
     },
     "metadata": {
      "needs_background": "light"
     },
     "output_type": "display_data"
    },
    {
     "name": "stdout",
     "output_type": "stream",
     "text": [
      "\n",
      "Classification Report:\n",
      "               precision    recall  f1-score   support\n",
      "\n",
      "           0       0.82      0.94      0.88       203\n",
      "           1       0.87      0.65      0.74       119\n",
      "\n",
      "   micro avg       0.83      0.83      0.83       322\n",
      "   macro avg       0.84      0.79      0.81       322\n",
      "weighted avg       0.84      0.83      0.83       322\n",
      "\n",
      "\n",
      "=== Naive Baiye Classifier ===\n",
      "Model Accuracy:  78.3%\n",
      "\n",
      "Confusion Matrix:\n",
      " [[174  29]\n",
      " [ 41  78]]\n",
      "\n"
     ]
    },
    {
     "data": {
      "image/png": "[encoded data removed]",
      "text/plain": [
       "<Figure size 432x288 with 1 Axes>"
      ]
     },
     "metadata": {
      "needs_background": "light"
     },
     "output_type": "display_data"
    },
    {
     "name": "stdout",
     "output_type": "stream",
     "text": [
      "\n",
      "Classification Report:\n",
      "               precision    recall  f1-score   support\n",
      "\n",
      "           0       0.81      0.86      0.83       203\n",
      "           1       0.73      0.66      0.69       119\n",
      "\n",
      "   micro avg       0.78      0.78      0.78       322\n",
      "   macro avg       0.77      0.76      0.76       322\n",
      "weighted avg       0.78      0.78      0.78       322\n",
      "\n",
      "\n",
      "============================= ROC Curve ===============================\n",
      "\n"
     ]
    },
    {
     "data": {
      "image/png": "[encoded data removed]",
      "text/plain": [
       "<Figure size 576x432 with 1 Axes>"
      ]
     },
     "metadata": {
      "needs_background": "light"
     },
     "output_type": "display_data"
    }
   ],
   "source": [
    "classdict = {'Possession ':0, 'non Possession':1}\n",
    "print()\n",
    "print('========================== Model Test Results ========================' \"\\n\")   \n",
    "\n",
    "for i, v in models:\n",
    "    accuracy = metrics.accuracy_score(y_test, v.predict(X_test))\n",
    "    confusion_matrix = metrics.confusion_matrix(y_test, v.predict(X_test))\n",
    "    classification = metrics.classification_report(y_test, v.predict(X_test))   \n",
    "    print('=== {} ==='.format(i))\n",
    "    print (\"Model Accuracy: \",  '{}%'.format(np.round(accuracy, 3) * 100))\n",
    "    print()\n",
    "    print(\"Confusion Matrix:\" \"\\n\", confusion_matrix)\n",
    "    print()\n",
    "    plot_confusion_matrix(confusion_matrix, classes = list(classdict.keys()), title='Confusion Matrix Plot', cmap=plt.cm.summer)\n",
    "    print() \n",
    "    print(\"Classification Report:\" \"\\n\", classification) \n",
    "    print() \n",
    "\n",
    "print('============================= ROC Curve ===============================' \"\\n\")      \n",
    "plot_roc_auc(arg1=models, arg2=X_test, arg3=y_test)"
   ]
  },
  {
   "cell_type": "code",
   "execution_count": 252,
   "metadata": {},
   "outputs": [],
   "source": [
    "from sklearn.neighbors import KNeighborsClassifier"
   ]
  },
  {
   "cell_type": "code",
   "execution_count": 253,
   "metadata": {},
   "outputs": [],
   "source": [
    "X_train, X_test, y_train, y_test = train_test_split(scaled_features,y,\n",
    "                                                    test_size=0.30)"
   ]
  },
  {
   "cell_type": "code",
   "execution_count": 265,
   "metadata": {},
   "outputs": [
    {
     "name": "stderr",
     "output_type": "stream",
     "text": [
      "C:\\Users\\dalia\\Anaconda3\\lib\\site-packages\\sklearn\\discriminant_analysis.py:388: UserWarning: Variables are collinear.\n",
      "  warnings.warn(\"Variables are collinear.\")\n"
     ]
    },
    {
     "data": {
      "text/plain": [
       "DecisionTreeClassifier(class_weight=None, criterion='gini', max_depth=None,\n",
       "            max_features=None, max_leaf_nodes=None,\n",
       "            min_impurity_decrease=0.0, min_impurity_split=None,\n",
       "            min_samples_leaf=1, min_samples_split=2,\n",
       "            min_weight_fraction_leaf=0.0, presort=False, random_state=None,\n",
       "            splitter='best')"
      ]
     },
     "execution_count": 265,
     "metadata": {},
     "output_type": "execute_result"
    }
   ],
   "source": [
    "# train knn model\n",
    "knn = KNeighborsClassifier(n_neighbors=4)\n",
    "knn.fit(X_train,y_train)\n",
    "\n",
    "\n",
    "#train lda model\n",
    "\n",
    "lda=LDA(n_components=2)\n",
    "lda.fit(X_train, y_train)\n",
    "\n",
    "#desion tree\n",
    "dtree=DecisionTreeClassifier()\n",
    "dtree.fit(X_train,y_train)\n",
    "\n",
    "\n"
   ]
  },
  {
   "cell_type": "code",
   "execution_count": 266,
   "metadata": {},
   "outputs": [
    {
     "name": "stdout",
     "output_type": "stream",
     "text": [
      "\n",
      "========================== Model Evaluation Results ========================\n",
      "\n",
      "===== KNeighborsClassifier =====\n",
      "\n",
      "Cross Validation Mean Score:  83.8%\n",
      "\n",
      "Model Accuracy:  98.8%\n",
      "\n",
      "Confusion Matrix:\n",
      " [[511   0]\n",
      " [  9 231]]\n",
      "\n",
      "Classification Report:\n",
      "               precision    recall  f1-score   support\n",
      "\n",
      "           0       0.98      1.00      0.99       511\n",
      "           1       1.00      0.96      0.98       240\n",
      "\n",
      "   micro avg       0.99      0.99      0.99       751\n",
      "   macro avg       0.99      0.98      0.99       751\n",
      "weighted avg       0.99      0.99      0.99       751\n",
      "\n",
      "\n",
      "===== LinearDiscriminantAnalysi =====\n",
      "\n",
      "Cross Validation Mean Score:  82.0%\n",
      "\n",
      "Model Accuracy:  85.0%\n",
      "\n",
      "Confusion Matrix:\n",
      " [[493  18]\n",
      " [ 95 145]]\n",
      "\n",
      "Classification Report:\n",
      "               precision    recall  f1-score   support\n",
      "\n",
      "           0       0.84      0.96      0.90       511\n",
      "           1       0.89      0.60      0.72       240\n",
      "\n",
      "   micro avg       0.85      0.85      0.85       751\n",
      "   macro avg       0.86      0.78      0.81       751\n",
      "weighted avg       0.85      0.85      0.84       751\n",
      "\n",
      "\n"
     ]
    },
    {
     "name": "stderr",
     "output_type": "stream",
     "text": [
      "C:\\Users\\dalia\\Anaconda3\\lib\\site-packages\\sklearn\\discriminant_analysis.py:388: UserWarning: Variables are collinear.\n",
      "  warnings.warn(\"Variables are collinear.\")\n",
      "C:\\Users\\dalia\\Anaconda3\\lib\\site-packages\\sklearn\\discriminant_analysis.py:388: UserWarning: Variables are collinear.\n",
      "  warnings.warn(\"Variables are collinear.\")\n",
      "C:\\Users\\dalia\\Anaconda3\\lib\\site-packages\\sklearn\\discriminant_analysis.py:388: UserWarning: Variables are collinear.\n",
      "  warnings.warn(\"Variables are collinear.\")\n",
      "C:\\Users\\dalia\\Anaconda3\\lib\\site-packages\\sklearn\\discriminant_analysis.py:388: UserWarning: Variables are collinear.\n",
      "  warnings.warn(\"Variables are collinear.\")\n",
      "C:\\Users\\dalia\\Anaconda3\\lib\\site-packages\\sklearn\\discriminant_analysis.py:388: UserWarning: Variables are collinear.\n",
      "  warnings.warn(\"Variables are collinear.\")\n",
      "C:\\Users\\dalia\\Anaconda3\\lib\\site-packages\\sklearn\\discriminant_analysis.py:388: UserWarning: Variables are collinear.\n",
      "  warnings.warn(\"Variables are collinear.\")\n",
      "C:\\Users\\dalia\\Anaconda3\\lib\\site-packages\\sklearn\\discriminant_analysis.py:388: UserWarning: Variables are collinear.\n",
      "  warnings.warn(\"Variables are collinear.\")\n",
      "C:\\Users\\dalia\\Anaconda3\\lib\\site-packages\\sklearn\\discriminant_analysis.py:388: UserWarning: Variables are collinear.\n",
      "  warnings.warn(\"Variables are collinear.\")\n",
      "C:\\Users\\dalia\\Anaconda3\\lib\\site-packages\\sklearn\\discriminant_analysis.py:388: UserWarning: Variables are collinear.\n",
      "  warnings.warn(\"Variables are collinear.\")\n",
      "C:\\Users\\dalia\\Anaconda3\\lib\\site-packages\\sklearn\\discriminant_analysis.py:388: UserWarning: Variables are collinear.\n",
      "  warnings.warn(\"Variables are collinear.\")\n"
     ]
    },
    {
     "name": "stdout",
     "output_type": "stream",
     "text": [
      "===== DecisionTreeClassifier =====\n",
      "\n",
      "Cross Validation Mean Score:  78.0%\n",
      "\n",
      "Model Accuracy:  100.0%\n",
      "\n",
      "Confusion Matrix:\n",
      " [[511   0]\n",
      " [  0 240]]\n",
      "\n",
      "Classification Report:\n",
      "               precision    recall  f1-score   support\n",
      "\n",
      "           0       1.00      1.00      1.00       511\n",
      "           1       1.00      1.00      1.00       240\n",
      "\n",
      "   micro avg       1.00      1.00      1.00       751\n",
      "   macro avg       1.00      1.00      1.00       751\n",
      "weighted avg       1.00      1.00      1.00       751\n",
      "\n",
      "\n"
     ]
    }
   ],
   "source": [
    "# Evaluate models\n",
    "modlist = [('KNeighborsClassifier', RDF_Classifier),('LinearDiscriminantAnalysi', lda),\n",
    "('DecisionTreeClassifier', dtree)] \n",
    "\n",
    "models = [j for j in modlist]\n",
    "\n",
    "print()\n",
    "print('========================== Model Evaluation Results ========================' \"\\n\")  \n",
    "\n",
    "for i, v in models:\n",
    "    scores = cross_val_score(v, X_train, y_train, cv=10)\n",
    "    accuracy = metrics.accuracy_score(y_train, v.predict(X_train))\n",
    "    confusion_matrix = metrics.confusion_matrix(y_train, v.predict(X_train))\n",
    "    classification = metrics.classification_report(y_train, v.predict(X_train))\n",
    "    print('===== {} ====='.format(i))\n",
    "    print()\n",
    "    print (\"Cross Validation Mean Score: \", '{}%'.format(np.round(scores.mean(), 3) * 100))  \n",
    "    print() \n",
    "    print (\"Model Accuracy: \", '{}%'.format(np.round(accuracy, 3) * 100)) \n",
    "    print()\n",
    "    print(\"Confusion Matrix:\" \"\\n\", confusion_matrix)\n",
    "    print()\n",
    "    print(\"Classification Report:\" \"\\n\", classification) \n",
    "    print()"
   ]
  },
  {
   "cell_type": "code",
   "execution_count": 267,
   "metadata": {},
   "outputs": [
    {
     "name": "stdout",
     "output_type": "stream",
     "text": [
      "\n",
      "========================== Model Test Results ========================\n",
      "\n",
      "=== KNeighborsClassifier ===\n",
      "Model Accuracy:  81.39999999999999%\n",
      "\n",
      "Confusion Matrix:\n",
      " [[185  18]\n",
      " [ 42  77]]\n",
      "\n"
     ]
    },
    {
     "data": {
      "image/png": "[encoded data removed]",
      "text/plain": [
       "<Figure size 432x288 with 1 Axes>"
      ]
     },
     "metadata": {
      "needs_background": "light"
     },
     "output_type": "display_data"
    },
    {
     "name": "stdout",
     "output_type": "stream",
     "text": [
      "\n",
      "Classification Report:\n",
      "               precision    recall  f1-score   support\n",
      "\n",
      "           0       0.81      0.91      0.86       203\n",
      "           1       0.81      0.65      0.72       119\n",
      "\n",
      "   micro avg       0.81      0.81      0.81       322\n",
      "   macro avg       0.81      0.78      0.79       322\n",
      "weighted avg       0.81      0.81      0.81       322\n",
      "\n",
      "\n",
      "=== LinearDiscriminantAnalysi ===\n",
      "Model Accuracy:  78.3%\n",
      "\n",
      "Confusion Matrix:\n",
      " [[192  11]\n",
      " [ 59  60]]\n",
      "\n"
     ]
    },
    {
     "data": {
      "image/png": "[encoded data removed]",
      "text/plain": [
       "<Figure size 432x288 with 1 Axes>"
      ]
     },
     "metadata": {
      "needs_background": "light"
     },
     "output_type": "display_data"
    },
    {
     "name": "stdout",
     "output_type": "stream",
     "text": [
      "\n",
      "Classification Report:\n",
      "               precision    recall  f1-score   support\n",
      "\n",
      "           0       0.76      0.95      0.85       203\n",
      "           1       0.85      0.50      0.63       119\n",
      "\n",
      "   micro avg       0.78      0.78      0.78       322\n",
      "   macro avg       0.81      0.73      0.74       322\n",
      "weighted avg       0.79      0.78      0.77       322\n",
      "\n",
      "\n",
      "=== DecisionTreeClassifier ===\n",
      "Model Accuracy:  78.3%\n",
      "\n",
      "Confusion Matrix:\n",
      " [[169  34]\n",
      " [ 36  83]]\n",
      "\n"
     ]
    },
    {
     "data": {
      "image/png": "[encoded data removed]",
      "text/plain": [
       "<Figure size 432x288 with 1 Axes>"
      ]
     },
     "metadata": {
      "needs_background": "light"
     },
     "output_type": "display_data"
    },
    {
     "name": "stdout",
     "output_type": "stream",
     "text": [
      "\n",
      "Classification Report:\n",
      "               precision    recall  f1-score   support\n",
      "\n",
      "           0       0.82      0.83      0.83       203\n",
      "           1       0.71      0.70      0.70       119\n",
      "\n",
      "   micro avg       0.78      0.78      0.78       322\n",
      "   macro avg       0.77      0.76      0.77       322\n",
      "weighted avg       0.78      0.78      0.78       322\n",
      "\n",
      "\n",
      "============================= ROC Curve ===============================\n",
      "\n"
     ]
    },
    {
     "data": {
      "image/png": "[encoded data removed]",
      "text/plain": [
       "<Figure size 576x432 with 1 Axes>"
      ]
     },
     "metadata": {
      "needs_background": "light"
     },
     "output_type": "display_data"
    }
   ],
   "source": [
    "classdict = {'Possession ':0, 'non Possession':1}\n",
    "print()\n",
    "print('========================== Model Test Results ========================' \"\\n\")   \n",
    "\n",
    "for i, v in models:\n",
    "    accuracy = metrics.accuracy_score(y_test, v.predict(X_test))\n",
    "    confusion_matrix = metrics.confusion_matrix(y_test, v.predict(X_test))\n",
    "    classification = metrics.classification_report(y_test, v.predict(X_test))   \n",
    "    print('=== {} ==='.format(i))\n",
    "    print (\"Model Accuracy: \",  '{}%'.format(np.round(accuracy, 3) * 100))\n",
    "    print()\n",
    "    print(\"Confusion Matrix:\" \"\\n\", confusion_matrix)\n",
    "    print()\n",
    "    plot_confusion_matrix(confusion_matrix, classes = list(classdict.keys()), title='Confusion Matrix Plot', cmap=plt.cm.summer)\n",
    "    print() \n",
    "    print(\"Classification Report:\" \"\\n\", classification) \n",
    "    print() \n",
    "\n",
    "print('============================= ROC Curve ===============================' \"\\n\")      \n",
    "plot_roc_auc(arg1=models, arg2=X_test, arg3=y_test)"
   ]
  },
  {
   "cell_type": "code",
   "execution_count": 257,
   "metadata": {},
   "outputs": [],
   "source": [
    "from sklearn.svm import SVC\n",
    "from sklearn.discriminant_analysis import QuadraticDiscriminantAnalysis"
   ]
  },
  {
   "cell_type": "code",
   "execution_count": 258,
   "metadata": {},
   "outputs": [],
   "source": [
    "X_train, X_test, y_train, y_test = train_test_split(scaled_features, y, test_size=0.30, random_state=101)"
   ]
  },
  {
   "cell_type": "code",
   "execution_count": 259,
   "metadata": {},
   "outputs": [
    {
     "name": "stderr",
     "output_type": "stream",
     "text": [
      "C:\\Users\\dalia\\Anaconda3\\lib\\site-packages\\sklearn\\discriminant_analysis.py:692: UserWarning: Variables are collinear\n",
      "  warnings.warn(\"Variables are collinear\")\n",
      "C:\\Users\\dalia\\Anaconda3\\lib\\site-packages\\sklearn\\discriminant_analysis.py:692: UserWarning: Variables are collinear\n",
      "  warnings.warn(\"Variables are collinear\")\n"
     ]
    },
    {
     "data": {
      "text/plain": [
       "sklearn.svm.classes.SVC"
      ]
     },
     "execution_count": 259,
     "metadata": {},
     "output_type": "execute_result"
    }
   ],
   "source": [
    "#svm model\n",
    "model=SVC(gamma='auto',probability=True)\n",
    "model.fit(X_train,y_train)\n",
    "\n",
    "#svm non linear\n",
    "Nmodel=SVC(kernel='poly', degree=8,gamma='auto',probability=True)\n",
    "Nmodel.fit(X_train,y_train)\n",
    "#qda\n",
    "qdamodel= QuadraticDiscriminantAnalysis()\n",
    "qdamodel.fit(X_train,y_train)\n",
    "\n",
    "SVC"
   ]
  },
  {
   "cell_type": "code",
   "execution_count": 260,
   "metadata": {},
   "outputs": [
    {
     "name": "stdout",
     "output_type": "stream",
     "text": [
      "\n",
      "========================== Model Evaluation Results ========================\n",
      "\n",
      "===== SVC =====\n",
      "\n",
      "Cross Validation Mean Score:  82.19999999999999%\n",
      "\n",
      "Model Accuracy:  88.5%\n",
      "\n",
      "Confusion Matrix:\n",
      " [[492  19]\n",
      " [ 67 173]]\n",
      "\n",
      "Classification Report:\n",
      "               precision    recall  f1-score   support\n",
      "\n",
      "           0       0.88      0.96      0.92       511\n",
      "           1       0.90      0.72      0.80       240\n",
      "\n",
      "   micro avg       0.89      0.89      0.89       751\n",
      "   macro avg       0.89      0.84      0.86       751\n",
      "weighted avg       0.89      0.89      0.88       751\n",
      "\n",
      "\n",
      "===== SVC =====\n",
      "\n",
      "Cross Validation Mean Score:  71.89999999999999%\n",
      "\n",
      "Model Accuracy:  78.4%\n",
      "\n",
      "Confusion Matrix:\n",
      " [[511   0]\n",
      " [162  78]]\n",
      "\n",
      "Classification Report:\n",
      "               precision    recall  f1-score   support\n",
      "\n",
      "           0       0.76      1.00      0.86       511\n",
      "           1       1.00      0.33      0.49       240\n",
      "\n",
      "   micro avg       0.78      0.78      0.78       751\n",
      "   macro avg       0.88      0.66      0.68       751\n",
      "weighted avg       0.84      0.78      0.74       751\n",
      "\n",
      "\n",
      "===== QuadraticDiscriminantAnalysis =====\n",
      "\n",
      "Cross Validation Mean Score:  66.4%\n",
      "\n",
      "Model Accuracy:  77.9%\n",
      "\n",
      "Confusion Matrix:\n",
      " [[413  98]\n",
      " [ 68 172]]\n",
      "\n",
      "Classification Report:\n",
      "               precision    recall  f1-score   support\n",
      "\n",
      "           0       0.86      0.81      0.83       511\n",
      "           1       0.64      0.72      0.67       240\n",
      "\n",
      "   micro avg       0.78      0.78      0.78       751\n",
      "   macro avg       0.75      0.76      0.75       751\n",
      "weighted avg       0.79      0.78      0.78       751\n",
      "\n",
      "\n"
     ]
    },
    {
     "name": "stderr",
     "output_type": "stream",
     "text": [
      "C:\\Users\\dalia\\Anaconda3\\lib\\site-packages\\sklearn\\discriminant_analysis.py:692: UserWarning: Variables are collinear\n",
      "  warnings.warn(\"Variables are collinear\")\n",
      "C:\\Users\\dalia\\Anaconda3\\lib\\site-packages\\sklearn\\discriminant_analysis.py:692: UserWarning: Variables are collinear\n",
      "  warnings.warn(\"Variables are collinear\")\n",
      "C:\\Users\\dalia\\Anaconda3\\lib\\site-packages\\sklearn\\discriminant_analysis.py:692: UserWarning: Variables are collinear\n",
      "  warnings.warn(\"Variables are collinear\")\n",
      "C:\\Users\\dalia\\Anaconda3\\lib\\site-packages\\sklearn\\discriminant_analysis.py:692: UserWarning: Variables are collinear\n",
      "  warnings.warn(\"Variables are collinear\")\n",
      "C:\\Users\\dalia\\Anaconda3\\lib\\site-packages\\sklearn\\discriminant_analysis.py:692: UserWarning: Variables are collinear\n",
      "  warnings.warn(\"Variables are collinear\")\n",
      "C:\\Users\\dalia\\Anaconda3\\lib\\site-packages\\sklearn\\discriminant_analysis.py:692: UserWarning: Variables are collinear\n",
      "  warnings.warn(\"Variables are collinear\")\n",
      "C:\\Users\\dalia\\Anaconda3\\lib\\site-packages\\sklearn\\discriminant_analysis.py:692: UserWarning: Variables are collinear\n",
      "  warnings.warn(\"Variables are collinear\")\n",
      "C:\\Users\\dalia\\Anaconda3\\lib\\site-packages\\sklearn\\discriminant_analysis.py:692: UserWarning: Variables are collinear\n",
      "  warnings.warn(\"Variables are collinear\")\n",
      "C:\\Users\\dalia\\Anaconda3\\lib\\site-packages\\sklearn\\discriminant_analysis.py:692: UserWarning: Variables are collinear\n",
      "  warnings.warn(\"Variables are collinear\")\n",
      "C:\\Users\\dalia\\Anaconda3\\lib\\site-packages\\sklearn\\discriminant_analysis.py:692: UserWarning: Variables are collinear\n",
      "  warnings.warn(\"Variables are collinear\")\n",
      "C:\\Users\\dalia\\Anaconda3\\lib\\site-packages\\sklearn\\discriminant_analysis.py:692: UserWarning: Variables are collinear\n",
      "  warnings.warn(\"Variables are collinear\")\n",
      "C:\\Users\\dalia\\Anaconda3\\lib\\site-packages\\sklearn\\discriminant_analysis.py:692: UserWarning: Variables are collinear\n",
      "  warnings.warn(\"Variables are collinear\")\n",
      "C:\\Users\\dalia\\Anaconda3\\lib\\site-packages\\sklearn\\discriminant_analysis.py:692: UserWarning: Variables are collinear\n",
      "  warnings.warn(\"Variables are collinear\")\n",
      "C:\\Users\\dalia\\Anaconda3\\lib\\site-packages\\sklearn\\discriminant_analysis.py:692: UserWarning: Variables are collinear\n",
      "  warnings.warn(\"Variables are collinear\")\n",
      "C:\\Users\\dalia\\Anaconda3\\lib\\site-packages\\sklearn\\discriminant_analysis.py:692: UserWarning: Variables are collinear\n",
      "  warnings.warn(\"Variables are collinear\")\n",
      "C:\\Users\\dalia\\Anaconda3\\lib\\site-packages\\sklearn\\discriminant_analysis.py:692: UserWarning: Variables are collinear\n",
      "  warnings.warn(\"Variables are collinear\")\n",
      "C:\\Users\\dalia\\Anaconda3\\lib\\site-packages\\sklearn\\discriminant_analysis.py:692: UserWarning: Variables are collinear\n",
      "  warnings.warn(\"Variables are collinear\")\n",
      "C:\\Users\\dalia\\Anaconda3\\lib\\site-packages\\sklearn\\discriminant_analysis.py:692: UserWarning: Variables are collinear\n",
      "  warnings.warn(\"Variables are collinear\")\n",
      "C:\\Users\\dalia\\Anaconda3\\lib\\site-packages\\sklearn\\discriminant_analysis.py:692: UserWarning: Variables are collinear\n",
      "  warnings.warn(\"Variables are collinear\")\n",
      "C:\\Users\\dalia\\Anaconda3\\lib\\site-packages\\sklearn\\discriminant_analysis.py:692: UserWarning: Variables are collinear\n",
      "  warnings.warn(\"Variables are collinear\")\n"
     ]
    }
   ],
   "source": [
    "# Evaluate models\n",
    "modlist = [('SVC',model),('SVC', Nmodel),\n",
    "('QuadraticDiscriminantAnalysis', qdamodel)] \n",
    "\n",
    "models = [j for j in modlist]\n",
    "\n",
    "print()\n",
    "print('========================== Model Evaluation Results ========================' \"\\n\")  \n",
    "\n",
    "for i, v in models:\n",
    "    scores = cross_val_score(v, X_train, y_train, cv=10)\n",
    "    accuracy = metrics.accuracy_score(y_train, v.predict(X_train))\n",
    "    confusion_matrix = metrics.confusion_matrix(y_train, v.predict(X_train))\n",
    "    classification = metrics.classification_report(y_train, v.predict(X_train))\n",
    "    print('===== {} ====='.format(i))\n",
    "    print()\n",
    "    print (\"Cross Validation Mean Score: \", '{}%'.format(np.round(scores.mean(), 3) * 100))  \n",
    "    print() \n",
    "    print (\"Model Accuracy: \", '{}%'.format(np.round(accuracy, 3) * 100)) \n",
    "    print()\n",
    "    print(\"Confusion Matrix:\" \"\\n\", confusion_matrix)\n",
    "    print()\n",
    "    print(\"Classification Report:\" \"\\n\", classification) \n",
    "    print()"
   ]
  },
  {
   "cell_type": "code",
   "execution_count": 261,
   "metadata": {},
   "outputs": [
    {
     "name": "stdout",
     "output_type": "stream",
     "text": [
      "\n",
      "========================== Model Test Results ========================\n",
      "\n",
      "=== SVC ===\n",
      "Model Accuracy:  83.5%\n",
      "\n",
      "Confusion Matrix:\n",
      " [[191  12]\n",
      " [ 41  78]]\n",
      "\n"
     ]
    },
    {
     "data": {
      "image/png": "[encoded data removed]",
      "text/plain": [
       "<Figure size 432x288 with 1 Axes>"
      ]
     },
     "metadata": {
      "needs_background": "light"
     },
     "output_type": "display_data"
    },
    {
     "name": "stdout",
     "output_type": "stream",
     "text": [
      "\n",
      "Classification Report:\n",
      "               precision    recall  f1-score   support\n",
      "\n",
      "           0       0.82      0.94      0.88       203\n",
      "           1       0.87      0.66      0.75       119\n",
      "\n",
      "   micro avg       0.84      0.84      0.84       322\n",
      "   macro avg       0.84      0.80      0.81       322\n",
      "weighted avg       0.84      0.84      0.83       322\n",
      "\n",
      "\n",
      "=== SVC ===\n",
      "Model Accuracy:  67.7%\n",
      "\n",
      "Confusion Matrix:\n",
      " [[202   1]\n",
      " [103  16]]\n",
      "\n"
     ]
    },
    {
     "data": {
      "image/png": "[encoded data removed]",
      "text/plain": [
       "<Figure size 432x288 with 1 Axes>"
      ]
     },
     "metadata": {
      "needs_background": "light"
     },
     "output_type": "display_data"
    },
    {
     "name": "stdout",
     "output_type": "stream",
     "text": [
      "\n",
      "Classification Report:\n",
      "               precision    recall  f1-score   support\n",
      "\n",
      "           0       0.66      1.00      0.80       203\n",
      "           1       0.94      0.13      0.24       119\n",
      "\n",
      "   micro avg       0.68      0.68      0.68       322\n",
      "   macro avg       0.80      0.56      0.52       322\n",
      "weighted avg       0.77      0.68      0.59       322\n",
      "\n",
      "\n",
      "=== QuadraticDiscriminantAnalysis ===\n",
      "Model Accuracy:  75.5%\n",
      "\n",
      "Confusion Matrix:\n",
      " [[165  38]\n",
      " [ 41  78]]\n",
      "\n"
     ]
    },
    {
     "data": {
      "image/png": "[encoded data removed]",
      "text/plain": [
       "<Figure size 432x288 with 1 Axes>"
      ]
     },
     "metadata": {
      "needs_background": "light"
     },
     "output_type": "display_data"
    },
    {
     "name": "stdout",
     "output_type": "stream",
     "text": [
      "\n",
      "Classification Report:\n",
      "               precision    recall  f1-score   support\n",
      "\n",
      "           0       0.80      0.81      0.81       203\n",
      "           1       0.67      0.66      0.66       119\n",
      "\n",
      "   micro avg       0.75      0.75      0.75       322\n",
      "   macro avg       0.74      0.73      0.74       322\n",
      "weighted avg       0.75      0.75      0.75       322\n",
      "\n",
      "\n",
      "============================= ROC Curve ===============================\n",
      "\n"
     ]
    },
    {
     "data": {
      "image/png": "[encoded data removed]",
      "text/plain": [
       "<Figure size 576x432 with 1 Axes>"
      ]
     },
     "metadata": {
      "needs_background": "light"
     },
     "output_type": "display_data"
    }
   ],
   "source": [
    "classdict = {'Possession ':0, 'non Possession':1}\n",
    "print()\n",
    "print('========================== Model Test Results ========================' \"\\n\")   \n",
    "\n",
    "for i, v in models:\n",
    "    accuracy = metrics.accuracy_score(y_test, v.predict(X_test))\n",
    "    confusion_matrix = metrics.confusion_matrix(y_test, v.predict(X_test))\n",
    "    classification = metrics.classification_report(y_test, v.predict(X_test))   \n",
    "    print('=== {} ==='.format(i))\n",
    "    print (\"Model Accuracy: \",  '{}%'.format(np.round(accuracy, 3) * 100))\n",
    "    print()\n",
    "    print(\"Confusion Matrix:\" \"\\n\", confusion_matrix)\n",
    "    print()\n",
    "    plot_confusion_matrix(confusion_matrix, classes = list(classdict.keys()), title='Confusion Matrix Plot', cmap=plt.cm.summer)\n",
    "    print() \n",
    "    print(\"Classification Report:\" \"\\n\", classification) \n",
    "    print() \n",
    "\n",
    "print('============================= ROC Curve ===============================' \"\\n\")      \n",
    "plot_roc_auc(arg1=models, arg2=X_test, arg3=y_test)"
   ]
  }
 ],
 "metadata": {
  "kernelspec": {
   "display_name": "Python 3",
   "language": "python",
   "name": "python3"
  },
  "language_info": {
   "codemirror_mode": {
    "name": "ipython",
    "version": 3
   },
   "file_extension": ".py",
   "mimetype": "text/x-python",
   "name": "python",
   "nbconvert_exporter": "python",
   "pygments_lexer": "ipython3",
   "version": "3.7.1"
  }
 },
 "nbformat": 4,
 "nbformat_minor": 2
}
